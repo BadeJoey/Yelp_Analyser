{
 "cells": [
  {
   "cell_type": "code",
   "execution_count": 1,
   "metadata": {},
   "outputs": [],
   "source": [
    "%config Completer.use_jedi = False"
   ]
  },
  {
   "cell_type": "code",
   "execution_count": 28,
   "metadata": {},
   "outputs": [],
   "source": [
    "import pandas as pd\n",
    "import matplotlib.pyplot as plt\n",
    "import seaborn as sns"
   ]
  },
  {
   "cell_type": "markdown",
   "metadata": {},
   "source": [
    "# Exploretory Data Analysis"
   ]
  },
  {
   "cell_type": "markdown",
   "metadata": {},
   "source": [
    "### To-Do\n",
    "- Zusammenhang zwischen 5 Sterne und Review Count\n",
    "- Bei jedem Review ein von jeder Sorte hinzufügen für fairen durchschnitt\n",
    "- Daten auf Karte plotten\n",
    "- Durchschnitte Median Mode berechnen für verschiedene Orte\n",
    "- Preis durch Rating teilen teuer ==  besser bewertet?\n",
    "- Art der Restaurant italienisch usw. (auch nach Region)\n",
    "- Art mit Bewertung vergleichen\n",
    "- Art mit Preis\n",
    "- Anzahl der Kategorien = besser bewertet mehr Auswahl\n",
    "\n",
    "- Öffnungszeiten rechnen und gesamtzeit"
   ]
  },
  {
   "cell_type": "code",
   "execution_count": 22,
   "metadata": {},
   "outputs": [],
   "source": [
    "df = pd.read_csv('vancouver_yelp_restaurants.csv')\n",
    "# Enthält keine Werte\n",
    "df.drop(columns=\"Open24Hours\", inplace=True)\n",
    "# Nur Restaurants in British Columbia, Kanada (BC)\n",
    "df = df[df[\"state\"].str.lower() == \"bc\"]\n",
    "# Wie viele Kategorien werden angegeben\n",
    "df['categories_len'] = df[\"categories\"].apply(lambda x: len(x.split(',')))"
   ]
  },
  {
   "cell_type": "code",
   "execution_count": 23,
   "metadata": {},
   "outputs": [
    {
     "data": {
      "text/html": [
       "<div>\n",
       "<style scoped>\n",
       "    .dataframe tbody tr th:only-of-type {\n",
       "        vertical-align: middle;\n",
       "    }\n",
       "\n",
       "    .dataframe tbody tr th {\n",
       "        vertical-align: top;\n",
       "    }\n",
       "\n",
       "    .dataframe thead th {\n",
       "        text-align: right;\n",
       "    }\n",
       "</style>\n",
       "<table border=\"1\" class=\"dataframe\">\n",
       "  <thead>\n",
       "    <tr style=\"text-align: right;\">\n",
       "      <th></th>\n",
       "      <th>business_id</th>\n",
       "      <th>name</th>\n",
       "      <th>address</th>\n",
       "      <th>city</th>\n",
       "      <th>state</th>\n",
       "      <th>postal_code</th>\n",
       "      <th>latitude</th>\n",
       "      <th>longitude</th>\n",
       "      <th>stars_fair</th>\n",
       "      <th>stars</th>\n",
       "      <th>...</th>\n",
       "      <th>BYOBCorkage</th>\n",
       "      <th>DietaryRestrictions</th>\n",
       "      <th>Monday</th>\n",
       "      <th>Tuesday</th>\n",
       "      <th>Wednesday</th>\n",
       "      <th>Thursday</th>\n",
       "      <th>Friday</th>\n",
       "      <th>Saturday</th>\n",
       "      <th>Sunday</th>\n",
       "      <th>categories_len</th>\n",
       "    </tr>\n",
       "  </thead>\n",
       "  <tbody>\n",
       "    <tr>\n",
       "      <th>0</th>\n",
       "      <td>D4JtQNTI4X3KcbzacDJsMw</td>\n",
       "      <td>Bob Likes Thai Food</td>\n",
       "      <td>3755 Main St</td>\n",
       "      <td>Vancouver</td>\n",
       "      <td>BC</td>\n",
       "      <td>V5V</td>\n",
       "      <td>49.251342</td>\n",
       "      <td>-123.101333</td>\n",
       "      <td>3.485632</td>\n",
       "      <td>3.5</td>\n",
       "      <td>...</td>\n",
       "      <td>NaN</td>\n",
       "      <td>NaN</td>\n",
       "      <td>17:0-21:0</td>\n",
       "      <td>17:0-21:0</td>\n",
       "      <td>17:0-21:0</td>\n",
       "      <td>17:0-21:0</td>\n",
       "      <td>17:0-21:0</td>\n",
       "      <td>17:0-21:0</td>\n",
       "      <td>17:0-21:0</td>\n",
       "      <td>2</td>\n",
       "    </tr>\n",
       "    <tr>\n",
       "      <th>2</th>\n",
       "      <td>jfDfHzAq6iKkRnzzZ4n1nQ</td>\n",
       "      <td>Let's Roll Custom Sushi Bar</td>\n",
       "      <td>1184 Denman Street, Suite 104</td>\n",
       "      <td>Vancouver</td>\n",
       "      <td>BC</td>\n",
       "      <td>V6G 2M9</td>\n",
       "      <td>49.286360</td>\n",
       "      <td>-123.140261</td>\n",
       "      <td>4.291667</td>\n",
       "      <td>4.5</td>\n",
       "      <td>...</td>\n",
       "      <td>NaN</td>\n",
       "      <td>NaN</td>\n",
       "      <td>11:0-22:0</td>\n",
       "      <td>11:0-22:0</td>\n",
       "      <td>11:0-22:0</td>\n",
       "      <td>11:0-22:0</td>\n",
       "      <td>11:0-22:0</td>\n",
       "      <td>11:0-22:0</td>\n",
       "      <td>11:0-22:0</td>\n",
       "      <td>4</td>\n",
       "    </tr>\n",
       "    <tr>\n",
       "      <th>4</th>\n",
       "      <td>OfA_4cHgvlknHMcn0qNs2w</td>\n",
       "      <td>Little Caesars</td>\n",
       "      <td>7010 Kerr Street</td>\n",
       "      <td>Vancouver</td>\n",
       "      <td>BC</td>\n",
       "      <td>V5S</td>\n",
       "      <td>49.219532</td>\n",
       "      <td>-123.040893</td>\n",
       "      <td>1.714286</td>\n",
       "      <td>1.0</td>\n",
       "      <td>...</td>\n",
       "      <td>NaN</td>\n",
       "      <td>NaN</td>\n",
       "      <td>11:0-23:0</td>\n",
       "      <td>11:0-23:0</td>\n",
       "      <td>11:0-23:0</td>\n",
       "      <td>11:0-23:0</td>\n",
       "      <td>11:0-23:0</td>\n",
       "      <td>11:0-23:0</td>\n",
       "      <td>11:0-23:0</td>\n",
       "      <td>2</td>\n",
       "    </tr>\n",
       "    <tr>\n",
       "      <th>5</th>\n",
       "      <td>7ee6XyKyeduI-Rbc6L5j2Q</td>\n",
       "      <td>NingTu Restaurant</td>\n",
       "      <td>2130 Kingsway</td>\n",
       "      <td>Vancouver</td>\n",
       "      <td>BC</td>\n",
       "      <td>V5N 2T5</td>\n",
       "      <td>49.244079</td>\n",
       "      <td>-123.063337</td>\n",
       "      <td>3.923077</td>\n",
       "      <td>4.0</td>\n",
       "      <td>...</td>\n",
       "      <td>NaN</td>\n",
       "      <td>NaN</td>\n",
       "      <td>17:30-21:30</td>\n",
       "      <td>17:30-21:30</td>\n",
       "      <td>NaN</td>\n",
       "      <td>17:30-21:30</td>\n",
       "      <td>17:30-21:30</td>\n",
       "      <td>17:30-21:30</td>\n",
       "      <td>17:30-21:30</td>\n",
       "      <td>2</td>\n",
       "    </tr>\n",
       "    <tr>\n",
       "      <th>6</th>\n",
       "      <td>r-hWf-bd9im5rj_l2MeofQ</td>\n",
       "      <td>Take Five Café</td>\n",
       "      <td>102-609 Granville Street</td>\n",
       "      <td>Vancouver</td>\n",
       "      <td>BC</td>\n",
       "      <td>V7Y 1H4</td>\n",
       "      <td>49.283532</td>\n",
       "      <td>-123.117107</td>\n",
       "      <td>3.772727</td>\n",
       "      <td>4.0</td>\n",
       "      <td>...</td>\n",
       "      <td>NaN</td>\n",
       "      <td>NaN</td>\n",
       "      <td>NaN</td>\n",
       "      <td>NaN</td>\n",
       "      <td>NaN</td>\n",
       "      <td>NaN</td>\n",
       "      <td>NaN</td>\n",
       "      <td>NaN</td>\n",
       "      <td>NaN</td>\n",
       "      <td>4</td>\n",
       "    </tr>\n",
       "  </tbody>\n",
       "</table>\n",
       "<p>5 rows × 56 columns</p>\n",
       "</div>"
      ],
      "text/plain": [
       "              business_id                         name  \\\n",
       "0  D4JtQNTI4X3KcbzacDJsMw          Bob Likes Thai Food   \n",
       "2  jfDfHzAq6iKkRnzzZ4n1nQ  Let's Roll Custom Sushi Bar   \n",
       "4  OfA_4cHgvlknHMcn0qNs2w               Little Caesars   \n",
       "5  7ee6XyKyeduI-Rbc6L5j2Q            NingTu Restaurant   \n",
       "6  r-hWf-bd9im5rj_l2MeofQ               Take Five Café   \n",
       "\n",
       "                         address       city state postal_code   latitude  \\\n",
       "0                   3755 Main St  Vancouver    BC         V5V  49.251342   \n",
       "2  1184 Denman Street, Suite 104  Vancouver    BC     V6G 2M9  49.286360   \n",
       "4               7010 Kerr Street  Vancouver    BC         V5S  49.219532   \n",
       "5                  2130 Kingsway  Vancouver    BC     V5N 2T5  49.244079   \n",
       "6       102-609 Granville Street  Vancouver    BC     V7Y 1H4  49.283532   \n",
       "\n",
       "    longitude  stars_fair  stars  ...  BYOBCorkage  DietaryRestrictions  \\\n",
       "0 -123.101333    3.485632    3.5  ...          NaN                  NaN   \n",
       "2 -123.140261    4.291667    4.5  ...          NaN                  NaN   \n",
       "4 -123.040893    1.714286    1.0  ...          NaN                  NaN   \n",
       "5 -123.063337    3.923077    4.0  ...          NaN                  NaN   \n",
       "6 -123.117107    3.772727    4.0  ...          NaN                  NaN   \n",
       "\n",
       "        Monday      Tuesday  Wednesday     Thursday       Friday     Saturday  \\\n",
       "0    17:0-21:0    17:0-21:0  17:0-21:0    17:0-21:0    17:0-21:0    17:0-21:0   \n",
       "2    11:0-22:0    11:0-22:0  11:0-22:0    11:0-22:0    11:0-22:0    11:0-22:0   \n",
       "4    11:0-23:0    11:0-23:0  11:0-23:0    11:0-23:0    11:0-23:0    11:0-23:0   \n",
       "5  17:30-21:30  17:30-21:30        NaN  17:30-21:30  17:30-21:30  17:30-21:30   \n",
       "6          NaN          NaN        NaN          NaN          NaN          NaN   \n",
       "\n",
       "        Sunday categories_len  \n",
       "0    17:0-21:0              2  \n",
       "2    11:0-22:0              4  \n",
       "4    11:0-23:0              2  \n",
       "5  17:30-21:30              2  \n",
       "6          NaN              4  \n",
       "\n",
       "[5 rows x 56 columns]"
      ]
     },
     "execution_count": 23,
     "metadata": {},
     "output_type": "execute_result"
    }
   ],
   "source": [
    "df.head()"
   ]
  },
  {
   "cell_type": "code",
   "execution_count": 24,
   "metadata": {},
   "outputs": [
    {
     "data": {
      "text/html": [
       "<div>\n",
       "<style scoped>\n",
       "    .dataframe tbody tr th:only-of-type {\n",
       "        vertical-align: middle;\n",
       "    }\n",
       "\n",
       "    .dataframe tbody tr th {\n",
       "        vertical-align: top;\n",
       "    }\n",
       "\n",
       "    .dataframe thead th {\n",
       "        text-align: right;\n",
       "    }\n",
       "</style>\n",
       "<table border=\"1\" class=\"dataframe\">\n",
       "  <thead>\n",
       "    <tr style=\"text-align: right;\">\n",
       "      <th></th>\n",
       "      <th>latitude</th>\n",
       "      <th>longitude</th>\n",
       "      <th>stars_fair</th>\n",
       "      <th>stars</th>\n",
       "      <th>review_count</th>\n",
       "      <th>is_open</th>\n",
       "      <th>categories_len</th>\n",
       "    </tr>\n",
       "  </thead>\n",
       "  <tbody>\n",
       "    <tr>\n",
       "      <th>count</th>\n",
       "      <td>4277.000000</td>\n",
       "      <td>4277.000000</td>\n",
       "      <td>4277.000000</td>\n",
       "      <td>4277.000000</td>\n",
       "      <td>4277.000000</td>\n",
       "      <td>4277.000000</td>\n",
       "      <td>4277.000000</td>\n",
       "    </tr>\n",
       "    <tr>\n",
       "      <th>mean</th>\n",
       "      <td>49.267385</td>\n",
       "      <td>-123.116757</td>\n",
       "      <td>3.434624</td>\n",
       "      <td>3.510755</td>\n",
       "      <td>69.228197</td>\n",
       "      <td>0.575637</td>\n",
       "      <td>4.369418</td>\n",
       "    </tr>\n",
       "    <tr>\n",
       "      <th>std</th>\n",
       "      <td>0.019431</td>\n",
       "      <td>0.038054</td>\n",
       "      <td>0.535762</td>\n",
       "      <td>0.663953</td>\n",
       "      <td>115.464306</td>\n",
       "      <td>0.494304</td>\n",
       "      <td>2.200026</td>\n",
       "    </tr>\n",
       "    <tr>\n",
       "      <th>min</th>\n",
       "      <td>49.194305</td>\n",
       "      <td>-123.261752</td>\n",
       "      <td>1.312500</td>\n",
       "      <td>1.000000</td>\n",
       "      <td>5.000000</td>\n",
       "      <td>0.000000</td>\n",
       "      <td>1.000000</td>\n",
       "    </tr>\n",
       "    <tr>\n",
       "      <th>25%</th>\n",
       "      <td>49.260897</td>\n",
       "      <td>-123.134645</td>\n",
       "      <td>3.000000</td>\n",
       "      <td>3.000000</td>\n",
       "      <td>14.000000</td>\n",
       "      <td>0.000000</td>\n",
       "      <td>3.000000</td>\n",
       "    </tr>\n",
       "    <tr>\n",
       "      <th>50%</th>\n",
       "      <td>49.271543</td>\n",
       "      <td>-123.118398</td>\n",
       "      <td>3.458333</td>\n",
       "      <td>3.500000</td>\n",
       "      <td>33.000000</td>\n",
       "      <td>1.000000</td>\n",
       "      <td>4.000000</td>\n",
       "    </tr>\n",
       "    <tr>\n",
       "      <th>75%</th>\n",
       "      <td>49.281745</td>\n",
       "      <td>-123.100757</td>\n",
       "      <td>3.888889</td>\n",
       "      <td>4.000000</td>\n",
       "      <td>76.000000</td>\n",
       "      <td>1.000000</td>\n",
       "      <td>6.000000</td>\n",
       "    </tr>\n",
       "    <tr>\n",
       "      <th>max</th>\n",
       "      <td>49.351517</td>\n",
       "      <td>-123.022436</td>\n",
       "      <td>4.949749</td>\n",
       "      <td>5.000000</td>\n",
       "      <td>2302.000000</td>\n",
       "      <td>1.000000</td>\n",
       "      <td>16.000000</td>\n",
       "    </tr>\n",
       "  </tbody>\n",
       "</table>\n",
       "</div>"
      ],
      "text/plain": [
       "          latitude    longitude   stars_fair        stars  review_count  \\\n",
       "count  4277.000000  4277.000000  4277.000000  4277.000000   4277.000000   \n",
       "mean     49.267385  -123.116757     3.434624     3.510755     69.228197   \n",
       "std       0.019431     0.038054     0.535762     0.663953    115.464306   \n",
       "min      49.194305  -123.261752     1.312500     1.000000      5.000000   \n",
       "25%      49.260897  -123.134645     3.000000     3.000000     14.000000   \n",
       "50%      49.271543  -123.118398     3.458333     3.500000     33.000000   \n",
       "75%      49.281745  -123.100757     3.888889     4.000000     76.000000   \n",
       "max      49.351517  -123.022436     4.949749     5.000000   2302.000000   \n",
       "\n",
       "           is_open  categories_len  \n",
       "count  4277.000000     4277.000000  \n",
       "mean      0.575637        4.369418  \n",
       "std       0.494304        2.200026  \n",
       "min       0.000000        1.000000  \n",
       "25%       0.000000        3.000000  \n",
       "50%       1.000000        4.000000  \n",
       "75%       1.000000        6.000000  \n",
       "max       1.000000       16.000000  "
      ]
     },
     "execution_count": 24,
     "metadata": {},
     "output_type": "execute_result"
    }
   ],
   "source": [
    "df.describe()"
   ]
  },
  {
   "cell_type": "code",
   "execution_count": 25,
   "metadata": {},
   "outputs": [
    {
     "data": {
      "text/plain": [
       "3003    Bars, Nightlife, Canadian (New), Comfort Food,...\n",
       "Name: categories, dtype: object"
      ]
     },
     "execution_count": 25,
     "metadata": {},
     "output_type": "execute_result"
    }
   ],
   "source": [
    "df[df[\"categories_len\"] == 16][\"categories\"]"
   ]
  },
  {
   "cell_type": "code",
   "execution_count": 6,
   "metadata": {},
   "outputs": [
    {
     "data": {
      "text/plain": [
       "Index(['business_id', 'name', 'address', 'city', 'state', 'postal_code',\n",
       "       'latitude', 'longitude', 'stars_fair', 'stars', 'review_count',\n",
       "       'is_open', 'attributes', 'categories', 'hours', 'GoodForKids',\n",
       "       'Alcohol', 'RestaurantsGoodForGroups', 'RestaurantsReservations',\n",
       "       'BusinessParking', 'RestaurantsAttire', 'BikeParking',\n",
       "       'RestaurantsPriceRange2', 'HasTV', 'NoiseLevel', 'WiFi',\n",
       "       'RestaurantsTakeOut', 'Caters', 'OutdoorSeating', 'Ambience',\n",
       "       'GoodForMeal', 'DogsAllowed', 'RestaurantsDelivery',\n",
       "       'BusinessAcceptsCreditCards', 'ByAppointmentOnly', 'Corkage',\n",
       "       'RestaurantsTableService', 'WheelchairAccessible', 'HappyHour', 'BYOB',\n",
       "       'Smoking', 'CoatCheck', 'Music', 'BestNights', 'DriveThru',\n",
       "       'GoodForDancing', 'BYOBCorkage', 'DietaryRestrictions', 'Monday',\n",
       "       'Tuesday', 'Wednesday', 'Thursday', 'Friday', 'Saturday', 'Sunday'],\n",
       "      dtype='object')"
      ]
     },
     "execution_count": 6,
     "metadata": {},
     "output_type": "execute_result"
    }
   ],
   "source": [
    "df.columns"
   ]
  },
  {
   "cell_type": "code",
   "execution_count": 7,
   "metadata": {},
   "outputs": [
    {
     "data": {
      "text/plain": [
       "<AxesSubplot:>"
      ]
     },
     "execution_count": 7,
     "metadata": {},
     "output_type": "execute_result"
    },
    {
     "data": {
      "image/png": "[encoded data removed]",
      "text/plain": [
       "<Figure size 432x288 with 1 Axes>"
      ]
     },
     "metadata": {
      "needs_background": "light"
     },
     "output_type": "display_data"
    }
   ],
   "source": [
    "df.stars.hist()"
   ]
  },
  {
   "cell_type": "code",
   "execution_count": 8,
   "metadata": {},
   "outputs": [
    {
     "data": {
      "text/plain": [
       "<AxesSubplot:>"
      ]
     },
     "execution_count": 8,
     "metadata": {},
     "output_type": "execute_result"
    },
    {
     "data": {
      "image/png": "[encoded data removed]",
      "text/plain": [
       "<Figure size 432x288 with 1 Axes>"
      ]
     },
     "metadata": {
      "needs_background": "light"
     },
     "output_type": "display_data"
    }
   ],
   "source": [
    "df.stars_fair.hist()"
   ]
  },
  {
   "cell_type": "code",
   "execution_count": 9,
   "metadata": {},
   "outputs": [
    {
     "data": {
      "text/plain": [
       "<AxesSubplot:>"
      ]
     },
     "execution_count": 9,
     "metadata": {},
     "output_type": "execute_result"
    },
    {
     "data": {
      "image/png": "[encoded data removed]",
      "text/plain": [
       "<Figure size 432x288 with 1 Axes>"
      ]
     },
     "metadata": {
      "needs_background": "light"
     },
     "output_type": "display_data"
    }
   ],
   "source": [
    "df.review_count.hist()"
   ]
  },
  {
   "cell_type": "code",
   "execution_count": 10,
   "metadata": {},
   "outputs": [
    {
     "data": {
      "text/plain": [
       "<AxesSubplot:>"
      ]
     },
     "execution_count": 10,
     "metadata": {},
     "output_type": "execute_result"
    },
    {
     "data": {
      "image/png": "[encoded data removed]",
      "text/plain": [
       "<Figure size 432x288 with 1 Axes>"
      ]
     },
     "metadata": {
      "needs_background": "light"
     },
     "output_type": "display_data"
    }
   ],
   "source": [
    "df.boxplot(column=[\"stars\", \"stars_fair\"])"
   ]
  },
  {
   "cell_type": "code",
   "execution_count": 11,
   "metadata": {},
   "outputs": [
    {
     "data": {
      "text/plain": [
       "<AxesSubplot:>"
      ]
     },
     "execution_count": 11,
     "metadata": {},
     "output_type": "execute_result"
    },
    {
     "data": {
      "image/png": "[encoded data removed]",
      "text/plain": [
       "<Figure size 432x288 with 1 Axes>"
      ]
     },
     "metadata": {
      "needs_background": "light"
     },
     "output_type": "display_data"
    }
   ],
   "source": [
    "df.boxplot(column=\"review_count\")"
   ]
  },
  {
   "cell_type": "code",
   "execution_count": 12,
   "metadata": {},
   "outputs": [
    {
     "data": {
      "text/plain": [
       "0    5\n",
       "dtype: int64"
      ]
     },
     "execution_count": 12,
     "metadata": {},
     "output_type": "execute_result"
    }
   ],
   "source": [
    "df[\"stars\"].median()\n",
    "df[\"stars\"].mode()\n",
    "\n",
    "df[\"review_count\"].median()\n",
    "df[\"review_count\"].mode()"
   ]
  },
  {
   "cell_type": "code",
   "execution_count": 41,
   "metadata": {},
   "outputs": [
    {
     "data": {
      "text/plain": [
       "<AxesSubplot:>"
      ]
     },
     "execution_count": 41,
     "metadata": {},
     "output_type": "execute_result"
    },
    {
     "data": {
      "image/png": "[encoded data removed]",
      "text/plain": [
       "<Figure size 432x288 with 2 Axes>"
      ]
     },
     "metadata": {
      "needs_background": "light"
     },
     "output_type": "display_data"
    }
   ],
   "source": [
    "cmap = sns.color_palette(\"viridis\", as_cmap=True)\n",
    "sns.heatmap(df[[\"stars\", \"review_count\",'latitude', 'longitude', 'categories_len']].corr(), vmax=.3, center=0,\n",
    "            cmap=cmap, square=True, linewidths=.5, cbar_kws={\"shrink\": 0.8})"
   ]
  },
  {
   "cell_type": "code",
   "execution_count": null,
   "metadata": {},
   "outputs": [],
   "source": []
  }
 ],
 "metadata": {
  "kernelspec": {
   "display_name": "Python 3",
   "language": "python",
   "name": "python3"
  },
  "language_info": {
   "codemirror_mode": {
    "name": "ipython",
    "version": 3
   },
   "file_extension": ".py",
   "mimetype": "text/x-python",
   "name": "python",
   "nbconvert_exporter": "python",
   "pygments_lexer": "ipython3",
   "version": "3.6.12"
  }
 },
 "nbformat": 4,
 "nbformat_minor": 4
}
