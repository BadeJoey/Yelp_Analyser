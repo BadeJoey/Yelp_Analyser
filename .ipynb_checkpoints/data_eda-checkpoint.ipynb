{
 "cells": [
  {
   "cell_type": "markdown",
   "metadata": {},
   "source": [
    "# Exploretory Data Analysis"
   ]
  },
  {
   "cell_type": "markdown",
   "metadata": {},
   "source": [
    "### To-Do\n",
    "- Zusammenhang zwischen 5 Sterne und Review Count\n",
    "- Bei jedem Review ein von jeder Sorte hinzufügen für fairen durchschnitt\n",
    "- Daten auf Karte plotten\n",
    "- Durchschnitte Median Mode berechnen für verschiedene Orte\n",
    "- Preis durch Rating teilen teuer ==  besser bewertet?\n",
    "- Art der Restaurant italienisch usw. (auch nach Region)\n",
    "- Art mit Bewertung vergleichen\n",
    "- Art mit Preis\n"
   ]
  },
  {
   "cell_type": "code",
   "execution_count": null,
   "metadata": {},
   "outputs": [],
   "source": [
    "df = pd.read_csv(r\"E:\\Projekte\\Yelp_Analyser\\vancouver_yelp_stores.csv\")\n",
    "\n",
    "df.columns\n",
    "\n",
    "df.describe()\n",
    "\n",
    "df[\"stars\"].value_counts()\n",
    "df[\"stars\"].mean()\n",
    "df[\"stars\"].median()\n",
    "df[\"stars\"].mode()\n",
    "df[\"stars\"].isna().sum()\n",
    "\n",
    "\n",
    "df[\"review_count\"].value_counts()\n",
    "df[\"review_count\"].mean()\n",
    "df[\"review_count\"].median()\n",
    "df[\"review_count\"].mode()\n",
    "df[\"review_count\"].isna().sum()\n",
    "\n",
    "df[\"review_count\"].where(df[\"stars\"] == 5.0,).groupby(df[\"review_count\"]).transform('max')"
   ]
  }
 ],
 "metadata": {
  "kernelspec": {
   "display_name": "Python 3",
   "language": "python",
   "name": "python3"
  },
  "language_info": {
   "codemirror_mode": {
    "name": "ipython",
    "version": 3
   },
   "file_extension": ".py",
   "mimetype": "text/x-python",
   "name": "python",
   "nbconvert_exporter": "python",
   "pygments_lexer": "ipython3",
   "version": "3.6.12"
  }
 },
 "nbformat": 4,
 "nbformat_minor": 4
}
